{
 "cells": [
  {
   "cell_type": "code",
   "execution_count": null,
   "metadata": {},
   "outputs": [],
   "source": [
    "import math\n",
    "import rospy\n",
    "from std_msgs.msg import Float64\n",
    "\n",
    "def mover():\n",
    "    pub_j1 = rospy.Publisher('/simple_arm/joint_1_position_controller/command',\n",
    "                             Float64, queue_size=10)\n",
    "    pub_j2 = rospy.Publisher('/simple_arm/joint_2_position_controller/command',\n",
    "                             Float64, queue_size=10)\n",
    "    rospy.init_node('arm_mover')\n",
    "    rate = rospy.Rate(10)\n",
    "    start_time = 0\n",
    "\n",
    "    while not start_time:\n",
    "        start_time = rospy.Time.now().to_sec()\n",
    "\n",
    "    while not rospy.is_shutdown():\n",
    "        elapsed = rospy.Time.now().to_sec() - start_time\n",
    "        pub_j1.publish(math.sin(2*math.pi*0.1*elapsed)*(math.pi/2))\n",
    "        pub_j2.publish(math.sin(2*math.pi*0.1*elapsed)*(math.pi/2))\n",
    "        rate.sleep()\n",
    "\n",
    "if __name__ == '__main__':\n",
    "    try:\n",
    "        mover()\n",
    "    except rospy.ROSInterruptException:\n",
    "        pass"
   ]
  },
  {
   "cell_type": "code",
   "execution_count": null,
   "metadata": {},
   "outputs": [],
   "source": []
  }
 ],
 "metadata": {
  "kernelspec": {
   "display_name": "Python 3",
   "language": "python",
   "name": "python3"
  },
  "language_info": {
   "codemirror_mode": {
    "name": "ipython",
    "version": 3
   },
   "file_extension": ".py",
   "mimetype": "text/x-python",
   "name": "python",
   "nbconvert_exporter": "python",
   "pygments_lexer": "ipython3",
   "version": "3.6.4"
  }
 },
 "nbformat": 4,
 "nbformat_minor": 2
}
